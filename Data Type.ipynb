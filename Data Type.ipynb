{
 "cells": [
  {
   "cell_type": "markdown",
   "id": "356d85e5",
   "metadata": {},
   "source": [
    "# Data Type is also known as identifiers ."
   ]
  },
  {
   "cell_type": "markdown",
   "id": "af2da21b",
   "metadata": {},
   "source": [
    "# Data Type are two types.\n",
    "# 1.Mutable(List,Dictionary,Sets)\n",
    "# 2.Immutble(String,Tuple)"
   ]
  },
  {
   "cell_type": "code",
   "execution_count": null,
   "id": "c2dcd3de",
   "metadata": {},
   "outputs": [],
   "source": []
  },
  {
   "cell_type": "markdown",
   "id": "5a620c32",
   "metadata": {},
   "source": [
    "# 1. IMMutable"
   ]
  },
  {
   "cell_type": "markdown",
   "id": "0fcdd13d",
   "metadata": {},
   "source": [
    "#### f= f specifier\n",
    "#### format= format specifier"
   ]
  },
  {
   "cell_type": "code",
   "execution_count": 76,
   "id": "0cb241fa",
   "metadata": {},
   "outputs": [
    {
     "name": "stdout",
     "output_type": "stream",
     "text": [
      "My age is 128 in month.\n"
     ]
    }
   ],
   "source": [
    "age=128\n",
    "print(f'My age is {age} in month.')"
   ]
  },
  {
   "cell_type": "code",
   "execution_count": 1,
   "id": "16ff8257",
   "metadata": {},
   "outputs": [
    {
     "name": "stdout",
     "output_type": "stream",
     "text": [
      "My age is 19.\n"
     ]
    }
   ],
   "source": [
    "a=19\n",
    "print(f'My age is {a}.')"
   ]
  },
  {
   "cell_type": "code",
   "execution_count": 1,
   "id": "67b917ae",
   "metadata": {},
   "outputs": [
    {
     "name": "stdout",
     "output_type": "stream",
     "text": [
      "My age is 19.\n"
     ]
    }
   ],
   "source": [
    "a=19\n",
    "print(f'My age is {a}.' )"
   ]
  },
  {
   "cell_type": "code",
   "execution_count": 1,
   "id": "e0f86f7e",
   "metadata": {},
   "outputs": [
    {
     "name": "stdout",
     "output_type": "stream",
     "text": [
      "My age in 228 months\n"
     ]
    }
   ],
   "source": [
    "print(f'My age in {19*12} months')"
   ]
  },
  {
   "cell_type": "code",
   "execution_count": 6,
   "id": "0bd71d4f",
   "metadata": {},
   "outputs": [
    {
     "name": "stdout",
     "output_type": "stream",
     "text": [
      "My age is 331776000 in seconds.\n"
     ]
    }
   ],
   "source": [
    "age=128*30*24*60*60\n",
    "print('My age is {} in seconds.'.format(age))"
   ]
  },
  {
   "cell_type": "code",
   "execution_count": 2,
   "id": "9af7342e",
   "metadata": {},
   "outputs": [
    {
     "name": "stdout",
     "output_type": "stream",
     "text": [
      "My name is Tushar Tomer.\n"
     ]
    }
   ],
   "source": [
    "a='Tushar Tomer'\n",
    "print('My name is {}.'.format(a))"
   ]
  },
  {
   "cell_type": "code",
   "execution_count": 3,
   "id": "3c077d84",
   "metadata": {},
   "outputs": [
    {
     "name": "stdout",
     "output_type": "stream",
     "text": [
      "My first name is Tushar and my last name is Tomer.\n"
     ]
    }
   ],
   "source": [
    "a='Tushar'\n",
    "b='Tomer'\n",
    "print('My first name is {} and my last name is {}.'.format(a,b))"
   ]
  },
  {
   "cell_type": "code",
   "execution_count": 4,
   "id": "5c817846",
   "metadata": {},
   "outputs": [
    {
     "name": "stdout",
     "output_type": "stream",
     "text": [
      "My first name is Tomer and my last name is Tushar.\n"
     ]
    }
   ],
   "source": [
    "a='Tushar'\n",
    "b='Tomer'\n",
    "print('My first name is {} and my last name is {}.'.format(b,a))"
   ]
  },
  {
   "cell_type": "code",
   "execution_count": 6,
   "id": "0168896b",
   "metadata": {},
   "outputs": [
    {
     "name": "stdout",
     "output_type": "stream",
     "text": [
      "My first name is Tushar and my last name is Tomer.\n"
     ]
    }
   ],
   "source": [
    "a='Tushar'\n",
    "b='Tomer'\n",
    "print('My first name is {1} and my last name is {0}.'.format(b,a))"
   ]
  },
  {
   "cell_type": "code",
   "execution_count": 2,
   "id": "23f46347",
   "metadata": {},
   "outputs": [
    {
     "name": "stdout",
     "output_type": "stream",
     "text": [
      "My age is 19.\n"
     ]
    }
   ],
   "source": [
    "a=19\n",
    "print('My age is {}.'.format(a))"
   ]
  },
  {
   "cell_type": "code",
   "execution_count": 10,
   "id": "cb2ed8eb",
   "metadata": {},
   "outputs": [
    {
     "name": "stdout",
     "output_type": "stream",
     "text": [
      "True\n"
     ]
    }
   ],
   "source": [
    "a='abcd1234'\n",
    "print(a.isalnum())"
   ]
  },
  {
   "cell_type": "code",
   "execution_count": 11,
   "id": "dbf374bf",
   "metadata": {},
   "outputs": [
    {
     "name": "stdout",
     "output_type": "stream",
     "text": [
      "True\n"
     ]
    }
   ],
   "source": [
    "a='1234'\n",
    "print(a.isdigit())"
   ]
  },
  {
   "cell_type": "code",
   "execution_count": 12,
   "id": "aaaddf59",
   "metadata": {},
   "outputs": [
    {
     "name": "stdout",
     "output_type": "stream",
     "text": [
      "True\n"
     ]
    }
   ],
   "source": [
    "a='Tushar'\n",
    "print(a.isalpha())"
   ]
  },
  {
   "cell_type": "code",
   "execution_count": 13,
   "id": "cb2a4993",
   "metadata": {},
   "outputs": [
    {
     "name": "stdout",
     "output_type": "stream",
     "text": [
      "True\n"
     ]
    }
   ],
   "source": [
    "a='TUSHAR'\n",
    "print(a.isupper())"
   ]
  },
  {
   "cell_type": "code",
   "execution_count": 14,
   "id": "fe6d5063",
   "metadata": {},
   "outputs": [
    {
     "name": "stdout",
     "output_type": "stream",
     "text": [
      "True\n"
     ]
    }
   ],
   "source": [
    "a='tushar'\n",
    "print(a.islower())"
   ]
  },
  {
   "cell_type": "code",
   "execution_count": 5,
   "id": "d5ebbffa",
   "metadata": {},
   "outputs": [
    {
     "name": "stdout",
     "output_type": "stream",
     "text": [
      "My name is Tushar and my age is 19.\n"
     ]
    }
   ],
   "source": [
    "age=19\n",
    "name='Tushar'\n",
    "print('My name is {} and my age is {}.'.format(name,age))"
   ]
  },
  {
   "cell_type": "code",
   "execution_count": 3,
   "id": "87898de4",
   "metadata": {},
   "outputs": [
    {
     "name": "stdout",
     "output_type": "stream",
     "text": [
      "a 0\n",
      "  1\n",
      "q 2\n",
      "u 3\n",
      "i 4\n",
      "c 5\n",
      "k 6\n",
      "  7\n",
      "b 8\n",
      "r 9\n",
      "o 10\n",
      "w 11\n",
      "n 12\n",
      "  13\n",
      "f 14\n",
      "o 15\n",
      "x 16\n",
      "  17\n",
      "j 18\n",
      "u 19\n",
      "m 20\n",
      "p 21\n",
      "s 22\n",
      "  23\n",
      "o 24\n",
      "v 25\n",
      "e 26\n",
      "r 27\n",
      "  28\n",
      "t 29\n",
      "h 30\n",
      "e 31\n",
      "  32\n",
      "l 33\n",
      "a 34\n",
      "z 35\n",
      "y 36\n",
      "  37\n",
      "d 38\n",
      "o 39\n",
      "g 40\n",
      "s 41\n"
     ]
    }
   ],
   "source": [
    "a='a quick brown fox jumps over the lazy dogs'\n",
    "for i in range(len(a)):\n",
    "        print(a[i],i)\n",
    "        x=x+1"
   ]
  },
  {
   "cell_type": "code",
   "execution_count": 3,
   "id": "6e3d20c7",
   "metadata": {},
   "outputs": [
    {
     "name": "stdout",
     "output_type": "stream",
     "text": [
      "a = 0,  = 1,q = 2,u = 3,i = 4,c = 5,k = 6,  = 7,b = 8,r = 9,o = 10,w = 11,n = 12,  = 13,f = 14,o = 15,x = 16,  = 17,j = 18,u = 19,m = 20,p = 21,s = 22,  = 23,o = 24,v = 25,e = 26,r = 27,  = 28,t = 29,h = 30,e = 31,  = 32,l = 33,a = 34,z = 35,y = 36,  = 37,d = 38,o = 39,g = 40,s = 41,"
     ]
    }
   ],
   "source": [
    "a='a quick brown fox jumps over the lazy dogs'\n",
    "x=0 \n",
    "for i in range(len(a)):\n",
    "    try:\n",
    "        print(a[x],\"=\",i,end=',')\n",
    "        x=x+1\n",
    "    except IndexError:\n",
    "        pass"
   ]
  },
  {
   "cell_type": "code",
   "execution_count": 1,
   "id": "e105aa41",
   "metadata": {},
   "outputs": [
    {
     "name": "stdout",
     "output_type": "stream",
     "text": [
      "Tushar is a good boy.\n"
     ]
    }
   ],
   "source": [
    "n='good'\n",
    "print(f'Tushar is a {n} boy.')"
   ]
  },
  {
   "cell_type": "code",
   "execution_count": 8,
   "id": "871d0ff1",
   "metadata": {},
   "outputs": [
    {
     "name": "stdout",
     "output_type": "stream",
     "text": [
      "Tushar is a good boy\n"
     ]
    }
   ],
   "source": [
    "n='good'\n",
    "print('Tushar is a {} boy'.format(n))"
   ]
  },
  {
   "cell_type": "code",
   "execution_count": 9,
   "id": "886807b3",
   "metadata": {},
   "outputs": [
    {
     "name": "stdout",
     "output_type": "stream",
     "text": [
      "Tushar is a good boy .\n"
     ]
    }
   ],
   "source": [
    "a='Tushar'\n",
    "b='is'\n",
    "c='a'\n",
    "d='good'\n",
    "e='boy'\n",
    "f='.'\n",
    "print('{} {} {} {} {} {}'.format(a,b,c,d,e,f))"
   ]
  },
  {
   "cell_type": "code",
   "execution_count": 15,
   "id": "95be36ca",
   "metadata": {},
   "outputs": [
    {
     "name": "stdout",
     "output_type": "stream",
     "text": [
      "Tushar boy is a good .\n"
     ]
    }
   ],
   "source": [
    "a='Tushar'\n",
    "b='is'\n",
    "c='a'\n",
    "d='good'\n",
    "e='boy'\n",
    "f='.'\n",
    "print('{0} {4} {1} {2} {3} {5}'.format(a,b,c,d,e,f))"
   ]
  },
  {
   "cell_type": "code",
   "execution_count": 20,
   "id": "f29e2b49",
   "metadata": {},
   "outputs": [
    {
     "name": "stdout",
     "output_type": "stream",
     "text": [
      "Tushar is a good boy .\n"
     ]
    }
   ],
   "source": [
    "a='Tushar '\n",
    "b='is '\n",
    "c='a '\n",
    "d='good '\n",
    "e='boy '\n",
    "f='.'\n",
    "print(a+b+c+d+e+f)"
   ]
  },
  {
   "cell_type": "code",
   "execution_count": 10,
   "id": "2876dfd3",
   "metadata": {},
   "outputs": [
    {
     "name": "stdout",
     "output_type": "stream",
     "text": [
      "4\n"
     ]
    }
   ],
   "source": [
    "a='1234'\n",
    "print(len(a))"
   ]
  },
  {
   "cell_type": "code",
   "execution_count": 7,
   "id": "16fcd3aa",
   "metadata": {},
   "outputs": [
    {
     "name": "stdout",
     "output_type": "stream",
     "text": [
      "Enter any no.=4\n",
      "4\n"
     ]
    }
   ],
   "source": [
    "# Use of pass in jump statement\n",
    "n=int(input(\"Enter any no.=\"))\n",
    "if n%2==0:\n",
    "    print(n)\n",
    "else:\n",
    "    pass"
   ]
  },
  {
   "cell_type": "code",
   "execution_count": 19,
   "id": "de250110",
   "metadata": {},
   "outputs": [
    {
     "name": "stdout",
     "output_type": "stream",
     "text": [
      "0 a\n",
      "1  \n",
      "2 q\n",
      "3 u\n",
      "4 i\n",
      "5 c\n",
      "6 k\n",
      "7  \n",
      "8 b\n",
      "9 r\n",
      "10 o\n",
      "11 w\n",
      "12 n\n",
      "13  \n",
      "14 f\n",
      "15 o\n",
      "16 x\n",
      "17  \n",
      "18 j\n",
      "19 u\n",
      "20 m\n",
      "21 p\n",
      "22 s\n",
      "23  \n",
      "24 o\n",
      "25 v\n",
      "26 e\n",
      "27 r\n",
      "28  \n",
      "29 t\n",
      "30 h\n",
      "31 e\n",
      "32  \n",
      "33 l\n",
      "34 a\n",
      "35 z\n",
      "36 y\n",
      "37  \n",
      "38 d\n",
      "39 o\n",
      "40 g\n",
      "41 s\n"
     ]
    }
   ],
   "source": [
    "a='a quick brown fox jumps over the lazy dogs'\n",
    "b=0\n",
    "for i in a:\n",
    "    print(b,i)\n",
    "    b=b+1"
   ]
  },
  {
   "cell_type": "code",
   "execution_count": 3,
   "id": "594b4810",
   "metadata": {},
   "outputs": [
    {
     "name": "stdout",
     "output_type": "stream",
     "text": [
      "Help on class str in module builtins:\n",
      "\n",
      "class str(object)\n",
      " |  str(object='') -> str\n",
      " |  str(bytes_or_buffer[, encoding[, errors]]) -> str\n",
      " |  \n",
      " |  Create a new string object from the given object. If encoding or\n",
      " |  errors is specified, then the object must expose a data buffer\n",
      " |  that will be decoded using the given encoding and error handler.\n",
      " |  Otherwise, returns the result of object.__str__() (if defined)\n",
      " |  or repr(object).\n",
      " |  encoding defaults to sys.getdefaultencoding().\n",
      " |  errors defaults to 'strict'.\n",
      " |  \n",
      " |  Methods defined here:\n",
      " |  \n",
      " |  __add__(self, value, /)\n",
      " |      Return self+value.\n",
      " |  \n",
      " |  __contains__(self, key, /)\n",
      " |      Return key in self.\n",
      " |  \n",
      " |  __eq__(self, value, /)\n",
      " |      Return self==value.\n",
      " |  \n",
      " |  __format__(self, format_spec, /)\n",
      " |      Return a formatted version of the string as described by format_spec.\n",
      " |  \n",
      " |  __ge__(self, value, /)\n",
      " |      Return self>=value.\n",
      " |  \n",
      " |  __getattribute__(self, name, /)\n",
      " |      Return getattr(self, name).\n",
      " |  \n",
      " |  __getitem__(self, key, /)\n",
      " |      Return self[key].\n",
      " |  \n",
      " |  __getnewargs__(...)\n",
      " |  \n",
      " |  __gt__(self, value, /)\n",
      " |      Return self>value.\n",
      " |  \n",
      " |  __hash__(self, /)\n",
      " |      Return hash(self).\n",
      " |  \n",
      " |  __iter__(self, /)\n",
      " |      Implement iter(self).\n",
      " |  \n",
      " |  __le__(self, value, /)\n",
      " |      Return self<=value.\n",
      " |  \n",
      " |  __len__(self, /)\n",
      " |      Return len(self).\n",
      " |  \n",
      " |  __lt__(self, value, /)\n",
      " |      Return self<value.\n",
      " |  \n",
      " |  __mod__(self, value, /)\n",
      " |      Return self%value.\n",
      " |  \n",
      " |  __mul__(self, value, /)\n",
      " |      Return self*value.\n",
      " |  \n",
      " |  __ne__(self, value, /)\n",
      " |      Return self!=value.\n",
      " |  \n",
      " |  __repr__(self, /)\n",
      " |      Return repr(self).\n",
      " |  \n",
      " |  __rmod__(self, value, /)\n",
      " |      Return value%self.\n",
      " |  \n",
      " |  __rmul__(self, value, /)\n",
      " |      Return value*self.\n",
      " |  \n",
      " |  __sizeof__(self, /)\n",
      " |      Return the size of the string in memory, in bytes.\n",
      " |  \n",
      " |  __str__(self, /)\n",
      " |      Return str(self).\n",
      " |  \n",
      " |  capitalize(self, /)\n",
      " |      Return a capitalized version of the string.\n",
      " |      \n",
      " |      More specifically, make the first character have upper case and the rest lower\n",
      " |      case.\n",
      " |  \n",
      " |  casefold(self, /)\n",
      " |      Return a version of the string suitable for caseless comparisons.\n",
      " |  \n",
      " |  center(self, width, fillchar=' ', /)\n",
      " |      Return a centered string of length width.\n",
      " |      \n",
      " |      Padding is done using the specified fill character (default is a space).\n",
      " |  \n",
      " |  count(...)\n",
      " |      S.count(sub[, start[, end]]) -> int\n",
      " |      \n",
      " |      Return the number of non-overlapping occurrences of substring sub in\n",
      " |      string S[start:end].  Optional arguments start and end are\n",
      " |      interpreted as in slice notation.\n",
      " |  \n",
      " |  encode(self, /, encoding='utf-8', errors='strict')\n",
      " |      Encode the string using the codec registered for encoding.\n",
      " |      \n",
      " |      encoding\n",
      " |        The encoding in which to encode the string.\n",
      " |      errors\n",
      " |        The error handling scheme to use for encoding errors.\n",
      " |        The default is 'strict' meaning that encoding errors raise a\n",
      " |        UnicodeEncodeError.  Other possible values are 'ignore', 'replace' and\n",
      " |        'xmlcharrefreplace' as well as any other name registered with\n",
      " |        codecs.register_error that can handle UnicodeEncodeErrors.\n",
      " |  \n",
      " |  endswith(...)\n",
      " |      S.endswith(suffix[, start[, end]]) -> bool\n",
      " |      \n",
      " |      Return True if S ends with the specified suffix, False otherwise.\n",
      " |      With optional start, test S beginning at that position.\n",
      " |      With optional end, stop comparing S at that position.\n",
      " |      suffix can also be a tuple of strings to try.\n",
      " |  \n",
      " |  expandtabs(self, /, tabsize=8)\n",
      " |      Return a copy where all tab characters are expanded using spaces.\n",
      " |      \n",
      " |      If tabsize is not given, a tab size of 8 characters is assumed.\n",
      " |  \n",
      " |  find(...)\n",
      " |      S.find(sub[, start[, end]]) -> int\n",
      " |      \n",
      " |      Return the lowest index in S where substring sub is found,\n",
      " |      such that sub is contained within S[start:end].  Optional\n",
      " |      arguments start and end are interpreted as in slice notation.\n",
      " |      \n",
      " |      Return -1 on failure.\n",
      " |  \n",
      " |  format(...)\n",
      " |      S.format(*args, **kwargs) -> str\n",
      " |      \n",
      " |      Return a formatted version of S, using substitutions from args and kwargs.\n",
      " |      The substitutions are identified by braces ('{' and '}').\n",
      " |  \n",
      " |  format_map(...)\n",
      " |      S.format_map(mapping) -> str\n",
      " |      \n",
      " |      Return a formatted version of S, using substitutions from mapping.\n",
      " |      The substitutions are identified by braces ('{' and '}').\n",
      " |  \n",
      " |  index(...)\n",
      " |      S.index(sub[, start[, end]]) -> int\n",
      " |      \n",
      " |      Return the lowest index in S where substring sub is found,\n",
      " |      such that sub is contained within S[start:end].  Optional\n",
      " |      arguments start and end are interpreted as in slice notation.\n",
      " |      \n",
      " |      Raises ValueError when the substring is not found.\n",
      " |  \n",
      " |  isalnum(self, /)\n",
      " |      Return True if the string is an alpha-numeric string, False otherwise.\n",
      " |      \n",
      " |      A string is alpha-numeric if all characters in the string are alpha-numeric and\n",
      " |      there is at least one character in the string.\n",
      " |  \n",
      " |  isalpha(self, /)\n",
      " |      Return True if the string is an alphabetic string, False otherwise.\n",
      " |      \n",
      " |      A string is alphabetic if all characters in the string are alphabetic and there\n",
      " |      is at least one character in the string.\n",
      " |  \n",
      " |  isascii(self, /)\n",
      " |      Return True if all characters in the string are ASCII, False otherwise.\n",
      " |      \n",
      " |      ASCII characters have code points in the range U+0000-U+007F.\n",
      " |      Empty string is ASCII too.\n",
      " |  \n",
      " |  isdecimal(self, /)\n",
      " |      Return True if the string is a decimal string, False otherwise.\n",
      " |      \n",
      " |      A string is a decimal string if all characters in the string are decimal and\n",
      " |      there is at least one character in the string.\n",
      " |  \n",
      " |  isdigit(self, /)\n",
      " |      Return True if the string is a digit string, False otherwise.\n",
      " |      \n",
      " |      A string is a digit string if all characters in the string are digits and there\n",
      " |      is at least one character in the string.\n",
      " |  \n",
      " |  isidentifier(self, /)\n",
      " |      Return True if the string is a valid Python identifier, False otherwise.\n",
      " |      \n",
      " |      Call keyword.iskeyword(s) to test whether string s is a reserved identifier,\n",
      " |      such as \"def\" or \"class\".\n",
      " |  \n",
      " |  islower(self, /)\n",
      " |      Return True if the string is a lowercase string, False otherwise.\n",
      " |      \n",
      " |      A string is lowercase if all cased characters in the string are lowercase and\n",
      " |      there is at least one cased character in the string.\n",
      " |  \n",
      " |  isnumeric(self, /)\n",
      " |      Return True if the string is a numeric string, False otherwise.\n",
      " |      \n",
      " |      A string is numeric if all characters in the string are numeric and there is at\n",
      " |      least one character in the string.\n",
      " |  \n",
      " |  isprintable(self, /)\n",
      " |      Return True if the string is printable, False otherwise.\n",
      " |      \n",
      " |      A string is printable if all of its characters are considered printable in\n",
      " |      repr() or if it is empty.\n",
      " |  \n",
      " |  isspace(self, /)\n",
      " |      Return True if the string is a whitespace string, False otherwise.\n",
      " |      \n",
      " |      A string is whitespace if all characters in the string are whitespace and there\n",
      " |      is at least one character in the string.\n",
      " |  \n",
      " |  istitle(self, /)\n",
      " |      Return True if the string is a title-cased string, False otherwise.\n",
      " |      \n",
      " |      In a title-cased string, upper- and title-case characters may only\n",
      " |      follow uncased characters and lowercase characters only cased ones.\n",
      " |  \n",
      " |  isupper(self, /)\n",
      " |      Return True if the string is an uppercase string, False otherwise.\n",
      " |      \n",
      " |      A string is uppercase if all cased characters in the string are uppercase and\n",
      " |      there is at least one cased character in the string.\n",
      " |  \n",
      " |  join(self, iterable, /)\n",
      " |      Concatenate any number of strings.\n",
      " |      \n",
      " |      The string whose method is called is inserted in between each given string.\n",
      " |      The result is returned as a new string.\n",
      " |      \n",
      " |      Example: '.'.join(['ab', 'pq', 'rs']) -> 'ab.pq.rs'\n",
      " |  \n",
      " |  ljust(self, width, fillchar=' ', /)\n",
      " |      Return a left-justified string of length width.\n",
      " |      \n",
      " |      Padding is done using the specified fill character (default is a space).\n",
      " |  \n",
      " |  lower(self, /)\n",
      " |      Return a copy of the string converted to lowercase.\n",
      " |  \n",
      " |  lstrip(self, chars=None, /)\n",
      " |      Return a copy of the string with leading whitespace removed.\n",
      " |      \n",
      " |      If chars is given and not None, remove characters in chars instead.\n",
      " |  \n",
      " |  partition(self, sep, /)\n",
      " |      Partition the string into three parts using the given separator.\n",
      " |      \n",
      " |      This will search for the separator in the string.  If the separator is found,\n",
      " |      returns a 3-tuple containing the part before the separator, the separator\n",
      " |      itself, and the part after it.\n",
      " |      \n",
      " |      If the separator is not found, returns a 3-tuple containing the original string\n",
      " |      and two empty strings.\n",
      " |  \n",
      " |  removeprefix(self, prefix, /)\n",
      " |      Return a str with the given prefix string removed if present.\n",
      " |      \n",
      " |      If the string starts with the prefix string, return string[len(prefix):].\n",
      " |      Otherwise, return a copy of the original string.\n",
      " |  \n",
      " |  removesuffix(self, suffix, /)\n",
      " |      Return a str with the given suffix string removed if present.\n",
      " |      \n",
      " |      If the string ends with the suffix string and that suffix is not empty,\n",
      " |      return string[:-len(suffix)]. Otherwise, return a copy of the original\n",
      " |      string.\n",
      " |  \n",
      " |  replace(self, old, new, count=-1, /)\n",
      " |      Return a copy with all occurrences of substring old replaced by new.\n",
      " |      \n",
      " |        count\n",
      " |          Maximum number of occurrences to replace.\n",
      " |          -1 (the default value) means replace all occurrences.\n",
      " |      \n",
      " |      If the optional argument count is given, only the first count occurrences are\n",
      " |      replaced.\n",
      " |  \n",
      " |  rfind(...)\n",
      " |      S.rfind(sub[, start[, end]]) -> int\n",
      " |      \n",
      " |      Return the highest index in S where substring sub is found,\n",
      " |      such that sub is contained within S[start:end].  Optional\n",
      " |      arguments start and end are interpreted as in slice notation.\n",
      " |      \n",
      " |      Return -1 on failure.\n",
      " |  \n",
      " |  rindex(...)\n",
      " |      S.rindex(sub[, start[, end]]) -> int\n",
      " |      \n",
      " |      Return the highest index in S where substring sub is found,\n",
      " |      such that sub is contained within S[start:end].  Optional\n",
      " |      arguments start and end are interpreted as in slice notation.\n",
      " |      \n",
      " |      Raises ValueError when the substring is not found.\n",
      " |  \n",
      " |  rjust(self, width, fillchar=' ', /)\n",
      " |      Return a right-justified string of length width.\n",
      " |      \n",
      " |      Padding is done using the specified fill character (default is a space).\n",
      " |  \n",
      " |  rpartition(self, sep, /)\n",
      " |      Partition the string into three parts using the given separator.\n",
      " |      \n",
      " |      This will search for the separator in the string, starting at the end. If\n",
      " |      the separator is found, returns a 3-tuple containing the part before the\n",
      " |      separator, the separator itself, and the part after it.\n",
      " |      \n",
      " |      If the separator is not found, returns a 3-tuple containing two empty strings\n",
      " |      and the original string.\n",
      " |  \n",
      " |  rsplit(self, /, sep=None, maxsplit=-1)\n",
      " |      Return a list of the words in the string, using sep as the delimiter string.\n",
      " |      \n",
      " |        sep\n",
      " |          The delimiter according which to split the string.\n",
      " |          None (the default value) means split according to any whitespace,\n",
      " |          and discard empty strings from the result.\n",
      " |        maxsplit\n",
      " |          Maximum number of splits to do.\n",
      " |          -1 (the default value) means no limit.\n",
      " |      \n",
      " |      Splits are done starting at the end of the string and working to the front.\n",
      " |  \n",
      " |  rstrip(self, chars=None, /)\n",
      " |      Return a copy of the string with trailing whitespace removed.\n",
      " |      \n",
      " |      If chars is given and not None, remove characters in chars instead.\n",
      " |  \n",
      " |  split(self, /, sep=None, maxsplit=-1)\n",
      " |      Return a list of the words in the string, using sep as the delimiter string.\n",
      " |      \n",
      " |      sep\n",
      " |        The delimiter according which to split the string.\n",
      " |        None (the default value) means split according to any whitespace,\n",
      " |        and discard empty strings from the result.\n",
      " |      maxsplit\n",
      " |        Maximum number of splits to do.\n",
      " |        -1 (the default value) means no limit.\n",
      " |  \n",
      " |  splitlines(self, /, keepends=False)\n",
      " |      Return a list of the lines in the string, breaking at line boundaries.\n",
      " |      \n",
      " |      Line breaks are not included in the resulting list unless keepends is given and\n",
      " |      true.\n",
      " |  \n",
      " |  startswith(...)\n",
      " |      S.startswith(prefix[, start[, end]]) -> bool\n",
      " |      \n",
      " |      Return True if S starts with the specified prefix, False otherwise.\n",
      " |      With optional start, test S beginning at that position.\n",
      " |      With optional end, stop comparing S at that position.\n",
      " |      prefix can also be a tuple of strings to try.\n",
      " |  \n",
      " |  strip(self, chars=None, /)\n",
      " |      Return a copy of the string with leading and trailing whitespace removed.\n",
      " |      \n",
      " |      If chars is given and not None, remove characters in chars instead.\n",
      " |  \n",
      " |  swapcase(self, /)\n",
      " |      Convert uppercase characters to lowercase and lowercase characters to uppercase.\n",
      " |  \n",
      " |  title(self, /)\n",
      " |      Return a version of the string where each word is titlecased.\n",
      " |      \n",
      " |      More specifically, words start with uppercased characters and all remaining\n",
      " |      cased characters have lower case.\n",
      " |  \n",
      " |  translate(self, table, /)\n",
      " |      Replace each character in the string using the given translation table.\n",
      " |      \n",
      " |        table\n",
      " |          Translation table, which must be a mapping of Unicode ordinals to\n",
      " |          Unicode ordinals, strings, or None.\n",
      " |      \n",
      " |      The table must implement lookup/indexing via __getitem__, for instance a\n",
      " |      dictionary or list.  If this operation raises LookupError, the character is\n",
      " |      left untouched.  Characters mapped to None are deleted.\n",
      " |  \n",
      " |  upper(self, /)\n",
      " |      Return a copy of the string converted to uppercase.\n",
      " |  \n",
      " |  zfill(self, width, /)\n",
      " |      Pad a numeric string with zeros on the left, to fill a field of the given width.\n",
      " |      \n",
      " |      The string is never truncated.\n",
      " |  \n",
      " |  ----------------------------------------------------------------------\n",
      " |  Static methods defined here:\n",
      " |  \n",
      " |  __new__(*args, **kwargs) from builtins.type\n",
      " |      Create and return a new object.  See help(type) for accurate signature.\n",
      " |  \n",
      " |  maketrans(...)\n",
      " |      Return a translation table usable for str.translate().\n",
      " |      \n",
      " |      If there is only one argument, it must be a dictionary mapping Unicode\n",
      " |      ordinals (integers) or characters to Unicode ordinals, strings or None.\n",
      " |      Character keys will be then converted to ordinals.\n",
      " |      If there are two arguments, they must be strings of equal length, and\n",
      " |      in the resulting dictionary, each character in x will be mapped to the\n",
      " |      character at the same position in y. If there is a third argument, it\n",
      " |      must be a string, whose characters will be mapped to None in the result.\n",
      "\n"
     ]
    }
   ],
   "source": [
    "help(str)"
   ]
  },
  {
   "cell_type": "code",
   "execution_count": 75,
   "id": "9a59fe1b",
   "metadata": {},
   "outputs": [
    {
     "name": "stdout",
     "output_type": "stream",
     "text": [
      "['Tushar', 'Tomer']\n"
     ]
    }
   ],
   "source": [
    "a='Tushar Tomer'\n",
    "print(a.split())"
   ]
  },
  {
   "cell_type": "code",
   "execution_count": 20,
   "id": "6e4f85c9",
   "metadata": {},
   "outputs": [
    {
     "name": "stdout",
     "output_type": "stream",
     "text": [
      "['A', 'Quick', 'Brown', 'Fox', 'Jumps', 'Over', 'The', 'Lazy', 'Dogs.']\n"
     ]
    }
   ],
   "source": [
    "a='A Quick Brown Fox Jumps Over The Lazy Dogs.'\n",
    "print(a.split())"
   ]
  },
  {
   "cell_type": "code",
   "execution_count": 4,
   "id": "923e851e",
   "metadata": {},
   "outputs": [
    {
     "name": "stdout",
     "output_type": "stream",
     "text": [
      "['Tushar', 'is', 'a', 'very', 'good', 'boy', '.']\n"
     ]
    }
   ],
   "source": [
    "a='Tushar is a very good boy .'\n",
    "print(a.split())"
   ]
  },
  {
   "cell_type": "code",
   "execution_count": 21,
   "id": "e6f08901",
   "metadata": {},
   "outputs": [
    {
     "ename": "AttributeError",
     "evalue": "'list' object has no attribute 'find'",
     "output_type": "error",
     "traceback": [
      "\u001b[1;31m---------------------------------------------------------------------------\u001b[0m",
      "\u001b[1;31mAttributeError\u001b[0m                            Traceback (most recent call last)",
      "Input \u001b[1;32mIn [21]\u001b[0m, in \u001b[0;36m<cell line: 2>\u001b[1;34m()\u001b[0m\n\u001b[0;32m      1\u001b[0m a\u001b[38;5;241m=\u001b[39m[\u001b[38;5;124m'\u001b[39m\u001b[38;5;124mTushar\u001b[39m\u001b[38;5;124m'\u001b[39m, \u001b[38;5;124m'\u001b[39m\u001b[38;5;124mis\u001b[39m\u001b[38;5;124m'\u001b[39m, \u001b[38;5;124m'\u001b[39m\u001b[38;5;124ma\u001b[39m\u001b[38;5;124m'\u001b[39m, \u001b[38;5;124m'\u001b[39m\u001b[38;5;124mvery\u001b[39m\u001b[38;5;124m'\u001b[39m, \u001b[38;5;124m'\u001b[39m\u001b[38;5;124mgood\u001b[39m\u001b[38;5;124m'\u001b[39m, \u001b[38;5;124m'\u001b[39m\u001b[38;5;124mboy\u001b[39m\u001b[38;5;124m'\u001b[39m, \u001b[38;5;124m'\u001b[39m\u001b[38;5;124m.\u001b[39m\u001b[38;5;124m'\u001b[39m]\n\u001b[1;32m----> 2\u001b[0m \u001b[38;5;28mprint\u001b[39m(\u001b[43ma\u001b[49m\u001b[38;5;241;43m.\u001b[39;49m\u001b[43mfind\u001b[49m(\u001b[38;5;124m'\u001b[39m\u001b[38;5;124mis\u001b[39m\u001b[38;5;124m'\u001b[39m))\n",
      "\u001b[1;31mAttributeError\u001b[0m: 'list' object has no attribute 'find'"
     ]
    }
   ],
   "source": [
    "# It does not find because it is in list\n",
    "a=['Tushar', 'is', 'a', 'very', 'good', 'boy', '.']\n",
    "print(a.find('is'))"
   ]
  },
  {
   "cell_type": "code",
   "execution_count": 17,
   "id": "db207919",
   "metadata": {},
   "outputs": [
    {
     "name": "stdout",
     "output_type": "stream",
     "text": [
      "Tushar is a very good boy . \n",
      "['Tushar', 'is', 'a', 'very', 'intelligent', 'boy', '.']\n"
     ]
    }
   ],
   "source": [
    "b=''\n",
    "a=['Tushar', 'is', 'a', 'very', 'good', 'boy', '.']\n",
    "# b=''.join(a)\n",
    "# print(b)\n",
    "for i in a:\n",
    "    b=b+str(i)\n",
    "    b=b+\" \"\n",
    "print(b)\n",
    "x=(b.replace(\"good\",\"intelligent\"))\n",
    "print(x.split())"
   ]
  },
  {
   "cell_type": "code",
   "execution_count": 8,
   "id": "fab00eee",
   "metadata": {},
   "outputs": [
    {
     "name": "stdout",
     "output_type": "stream",
     "text": [
      "17\n"
     ]
    }
   ],
   "source": [
    "a='Tushar is a very good boy .'\n",
    "print(a.find('good'))"
   ]
  },
  {
   "cell_type": "code",
   "execution_count": 10,
   "id": "96973ebc",
   "metadata": {},
   "outputs": [
    {
     "name": "stdout",
     "output_type": "stream",
     "text": [
      "Tushar is a very excellent boy .\n"
     ]
    }
   ],
   "source": [
    "a='Tushar is a very good boy .'\n",
    "print(a.replace('good','excellent'))"
   ]
  },
  {
   "cell_type": "code",
   "execution_count": 26,
   "id": "d5b3bf14",
   "metadata": {},
   "outputs": [
    {
     "name": "stdout",
     "output_type": "stream",
     "text": [
      "A Quick Brown Lion Jumps Over The Lazy Dogs.\n"
     ]
    }
   ],
   "source": [
    "a='A Quick Brown Fox Jumps Over The Lazy Dogs.'\n",
    "print(a.replace('Fox','Lion'))"
   ]
  },
  {
   "cell_type": "code",
   "execution_count": 10,
   "id": "25f8c92a",
   "metadata": {},
   "outputs": [
    {
     "data": {
      "text/plain": [
       "['Tushar', 'is', 'a', 'very', 'good', 'boy', '.']"
      ]
     },
     "execution_count": 10,
     "metadata": {},
     "output_type": "execute_result"
    }
   ],
   "source": [
    "a=['Tushar', 'is', 'a', 'very', 'good', 'boy', '.']\n",
    "a"
   ]
  },
  {
   "cell_type": "code",
   "execution_count": 5,
   "id": "ea095aeb",
   "metadata": {},
   "outputs": [
    {
     "data": {
      "text/plain": [
       "'Tushar,is,a,very,good,boy,.'"
      ]
     },
     "execution_count": 5,
     "metadata": {},
     "output_type": "execute_result"
    }
   ],
   "source": [
    "b=\",\".join(a)\n",
    "b"
   ]
  },
  {
   "cell_type": "code",
   "execution_count": 7,
   "id": "06a4e7d2",
   "metadata": {},
   "outputs": [
    {
     "data": {
      "text/plain": [
       "'Karan,is,a,very,good,boy,.'"
      ]
     },
     "execution_count": 7,
     "metadata": {},
     "output_type": "execute_result"
    }
   ],
   "source": [
    "d=b.replace(\"Tushar\",\"Karan\")\n",
    "d"
   ]
  },
  {
   "cell_type": "code",
   "execution_count": 9,
   "id": "69aeda85",
   "metadata": {},
   "outputs": [
    {
     "data": {
      "text/plain": [
       "['Karan', 'is', 'a', 'very', 'good', 'boy', '.']"
      ]
     },
     "execution_count": 9,
     "metadata": {},
     "output_type": "execute_result"
    }
   ],
   "source": [
    "x=d.split(\",\")\n",
    "x"
   ]
  },
  {
   "cell_type": "code",
   "execution_count": 13,
   "id": "ad0924c3",
   "metadata": {},
   "outputs": [
    {
     "name": "stdout",
     "output_type": "stream",
     "text": [
      "Good Good\n",
      "Good Good\n"
     ]
    }
   ],
   "source": [
    "a='good good'\n",
    "print(a.replace('g','G'))\n",
    "print(a.replace('good','Good'))"
   ]
  },
  {
   "cell_type": "code",
   "execution_count": 74,
   "id": "0bc6d415",
   "metadata": {},
   "outputs": [
    {
     "name": "stdout",
     "output_type": "stream",
     "text": [
      "3\n"
     ]
    }
   ],
   "source": [
    "a='Tushar Tomer'\n",
    "print(a.find('h'))"
   ]
  },
  {
   "cell_type": "code",
   "execution_count": 72,
   "id": "7a520d7f",
   "metadata": {},
   "outputs": [
    {
     "name": "stdout",
     "output_type": "stream",
     "text": [
      "Kushar Komer\n"
     ]
    }
   ],
   "source": [
    "a='Tushar Tomer'\n",
    "print(a.replace('T','K'))"
   ]
  },
  {
   "cell_type": "code",
   "execution_count": 11,
   "id": "a64b3410",
   "metadata": {},
   "outputs": [
    {
     "name": "stdout",
     "output_type": "stream",
     "text": [
      "T_u_s_h_a_r_ _i_s_ _a_ _v_e_r_y_ _g_o_o_d_ _b_o_y_.\n"
     ]
    }
   ],
   "source": [
    "a='Tushar is a very good boy.'\n",
    "for i in a:\n",
    "    if i==' ':\n",
    "        print('_'.join(a))\n",
    "        break"
   ]
  },
  {
   "cell_type": "code",
   "execution_count": 28,
   "id": "c602c882",
   "metadata": {},
   "outputs": [
    {
     "name": "stdout",
     "output_type": "stream",
     "text": [
      "Tushar_is_a_very_good_boy.\n"
     ]
    }
   ],
   "source": [
    "a='Tushar is a very good boy.'\n",
    "for i in a:\n",
    "    if i==' ':\n",
    "        print(a.replace(' ','_'))\n",
    "        break"
   ]
  },
  {
   "cell_type": "code",
   "execution_count": 31,
   "id": "29129e4e",
   "metadata": {},
   "outputs": [
    {
     "name": "stdout",
     "output_type": "stream",
     "text": [
      "Tushar_is_a_very_good_boy.\n"
     ]
    }
   ],
   "source": [
    "a='Tushar is a very good boy.'\n",
    "print(a.replace(' ','_'))"
   ]
  },
  {
   "cell_type": "code",
   "execution_count": 18,
   "id": "702a4189",
   "metadata": {},
   "outputs": [
    {
     "name": "stdout",
     "output_type": "stream",
     "text": [
      "Tushar_is_a_very_good_boy.\n"
     ]
    }
   ],
   "source": [
    "a='Tushar is a very good boy.'\n",
    "print(a.replace(' ','_'))"
   ]
  },
  {
   "cell_type": "code",
   "execution_count": 10,
   "id": "dcc2824c",
   "metadata": {},
   "outputs": [
    {
     "name": "stdout",
     "output_type": "stream",
     "text": [
      "T/u/s/h/a/r/ /T/o/m/e/r\n",
      "ushar Tomer\n",
      "Tushar Tome\n"
     ]
    }
   ],
   "source": [
    "a='Tushar Tomer'\n",
    "print('/'.join(a))\n",
    "print(a.lstrip('T'))\n",
    "print(a.rstrip('r'))"
   ]
  },
  {
   "cell_type": "code",
   "execution_count": 57,
   "id": "06dc3917",
   "metadata": {},
   "outputs": [
    {
     "name": "stdout",
     "output_type": "stream",
     "text": [
      "True\n"
     ]
    }
   ],
   "source": [
    "a=' '\n",
    "print(a.isspace())"
   ]
  },
  {
   "cell_type": "code",
   "execution_count": 56,
   "id": "9f15b8b5",
   "metadata": {},
   "outputs": [
    {
     "name": "stdout",
     "output_type": "stream",
     "text": [
      "False\n"
     ]
    }
   ],
   "source": [
    "a='Tushar Tomer'\n",
    "print(a.isspace())"
   ]
  },
  {
   "cell_type": "code",
   "execution_count": 21,
   "id": "865a9783",
   "metadata": {},
   "outputs": [
    {
     "name": "stdout",
     "output_type": "stream",
     "text": [
      "True\n",
      "True\n",
      "True\n",
      "True\n",
      "True\n",
      "True\n"
     ]
    }
   ],
   "source": [
    "a='Tushar is a very good boy .'\n",
    "for i in a:\n",
    "    if i==' ':\n",
    "        print(i.isspace())"
   ]
  },
  {
   "cell_type": "code",
   "execution_count": 52,
   "id": "4cee59e6",
   "metadata": {},
   "outputs": [
    {
     "name": "stdout",
     "output_type": "stream",
     "text": [
      "Tushar\n"
     ]
    }
   ],
   "source": [
    "a='tushar'\n",
    "print(a.title())"
   ]
  },
  {
   "cell_type": "code",
   "execution_count": 20,
   "id": "86e14378",
   "metadata": {},
   "outputs": [
    {
     "name": "stdout",
     "output_type": "stream",
     "text": [
      "Tushar Tomer\n"
     ]
    }
   ],
   "source": [
    "a='tushar tomer'\n",
    "print(a.title())"
   ]
  },
  {
   "cell_type": "code",
   "execution_count": 21,
   "id": "6e178f13",
   "metadata": {},
   "outputs": [
    {
     "name": "stdout",
     "output_type": "stream",
     "text": [
      "True\n"
     ]
    }
   ],
   "source": [
    "a='Tushar Tomer'\n",
    "print(a.istitle())"
   ]
  },
  {
   "cell_type": "code",
   "execution_count": 32,
   "id": "64293917",
   "metadata": {},
   "outputs": [
    {
     "name": "stdout",
     "output_type": "stream",
     "text": [
      "False\n"
     ]
    }
   ],
   "source": [
    "a='tushar tomer'\n",
    "print(a.istitle())"
   ]
  },
  {
   "cell_type": "code",
   "execution_count": 23,
   "id": "bf872b13",
   "metadata": {},
   "outputs": [
    {
     "name": "stdout",
     "output_type": "stream",
     "text": [
      "Tushar Tomer\n"
     ]
    }
   ],
   "source": [
    "a='tushar '\n",
    "b='tomer'\n",
    "print(a.title()+b.title())"
   ]
  },
  {
   "cell_type": "code",
   "execution_count": 24,
   "id": "73331bd2",
   "metadata": {},
   "outputs": [
    {
     "name": "stdout",
     "output_type": "stream",
     "text": [
      "TUSHAR IS A VERY GOOD BOY .\n"
     ]
    }
   ],
   "source": [
    "a='Tushar is a very good boy .'\n",
    "print(a.upper())"
   ]
  },
  {
   "cell_type": "code",
   "execution_count": 25,
   "id": "4b4744fd",
   "metadata": {},
   "outputs": [
    {
     "name": "stdout",
     "output_type": "stream",
     "text": [
      "tushar is a very good boy .\n"
     ]
    }
   ],
   "source": [
    "a='Tushar is a very good boy .'\n",
    "print(a.lower())"
   ]
  },
  {
   "cell_type": "code",
   "execution_count": 27,
   "id": "dc56f399",
   "metadata": {},
   "outputs": [
    {
     "name": "stdout",
     "output_type": "stream",
     "text": [
      "True\n"
     ]
    }
   ],
   "source": [
    "a='TUSHAR IS A GOOD BOY.'\n",
    "print(a.isupper())"
   ]
  },
  {
   "cell_type": "code",
   "execution_count": 28,
   "id": "a78c51cd",
   "metadata": {},
   "outputs": [
    {
     "name": "stdout",
     "output_type": "stream",
     "text": [
      "False\n"
     ]
    }
   ],
   "source": [
    "a='Tushar is a very good boy .'\n",
    "print(a.isupper())"
   ]
  },
  {
   "cell_type": "code",
   "execution_count": 33,
   "id": "d2a1d657",
   "metadata": {},
   "outputs": [
    {
     "name": "stdout",
     "output_type": "stream",
     "text": [
      "True\n"
     ]
    }
   ],
   "source": [
    "a='tushar is a very good boy .'\n",
    "print(a.islower())"
   ]
  },
  {
   "cell_type": "code",
   "execution_count": 34,
   "id": "583f125c",
   "metadata": {},
   "outputs": [
    {
     "name": "stdout",
     "output_type": "stream",
     "text": [
      "False\n"
     ]
    }
   ],
   "source": [
    "a='Tushar is a very good boy .'\n",
    "print(a.islower())"
   ]
  },
  {
   "cell_type": "code",
   "execution_count": 24,
   "id": "f96dfc9b",
   "metadata": {},
   "outputs": [
    {
     "name": "stdout",
     "output_type": "stream",
     "text": [
      "Tushar Tomer\n",
      "True\n",
      "True\n",
      "True\n"
     ]
    }
   ],
   "source": [
    "a='tushar '\n",
    "b='tomer'\n",
    "c=a.title()+b.title()\n",
    "print(c)\n",
    "print(c.istitle())\n",
    "print(a.islower())\n",
    "print(b.islower())"
   ]
  },
  {
   "cell_type": "code",
   "execution_count": 42,
   "id": "b76f7372",
   "metadata": {},
   "outputs": [
    {
     "name": "stdout",
     "output_type": "stream",
     "text": [
      "TUSHAR\n"
     ]
    }
   ],
   "source": [
    "a='tushar'\n",
    "print(a.upper())"
   ]
  },
  {
   "cell_type": "code",
   "execution_count": 51,
   "id": "43d4c56f",
   "metadata": {},
   "outputs": [
    {
     "name": "stdout",
     "output_type": "stream",
     "text": [
      "tushar\n",
      "True\n"
     ]
    }
   ],
   "source": [
    "a='TUSHAR'\n",
    "print(a.lower())\n",
    "print(a.isupper())"
   ]
  },
  {
   "cell_type": "code",
   "execution_count": 27,
   "id": "2d12454c",
   "metadata": {},
   "outputs": [
    {
     "name": "stdout",
     "output_type": "stream",
     "text": [
      "False\n"
     ]
    }
   ],
   "source": [
    "a='Tushar Tomer'\n",
    "print(a.isalpha())"
   ]
  },
  {
   "cell_type": "code",
   "execution_count": 36,
   "id": "e05f3893",
   "metadata": {},
   "outputs": [
    {
     "name": "stdout",
     "output_type": "stream",
     "text": [
      "True\n"
     ]
    }
   ],
   "source": [
    "a='Tusharisaverygoodboy'\n",
    "print(a.isalpha())"
   ]
  },
  {
   "cell_type": "code",
   "execution_count": 41,
   "id": "0e82acaa",
   "metadata": {},
   "outputs": [
    {
     "name": "stdout",
     "output_type": "stream",
     "text": [
      "True\n"
     ]
    }
   ],
   "source": [
    "a='1234'\n",
    "print(a.isdecimal())"
   ]
  },
  {
   "cell_type": "code",
   "execution_count": 32,
   "id": "598008c7",
   "metadata": {},
   "outputs": [
    {
     "name": "stdout",
     "output_type": "stream",
     "text": [
      "False\n"
     ]
    }
   ],
   "source": [
    "a='12345 678'\n",
    "print(a.isdecimal())"
   ]
  },
  {
   "cell_type": "code",
   "execution_count": 39,
   "id": "0bc410c0",
   "metadata": {},
   "outputs": [
    {
     "name": "stdout",
     "output_type": "stream",
     "text": [
      "True\n"
     ]
    }
   ],
   "source": [
    "a='Tushar1is2a3very4good5boy'\n",
    "print(a.isalnum())"
   ]
  },
  {
   "cell_type": "code",
   "execution_count": 34,
   "id": "af75a973",
   "metadata": {},
   "outputs": [
    {
     "name": "stdout",
     "output_type": "stream",
     "text": [
      "False\n"
     ]
    }
   ],
   "source": [
    "a='Tusharisaverygoodboy.'\n",
    "print(a.isalpha())"
   ]
  },
  {
   "cell_type": "code",
   "execution_count": 34,
   "id": "b6f4226a",
   "metadata": {},
   "outputs": [
    {
     "name": "stdout",
     "output_type": "stream",
     "text": [
      "3\n"
     ]
    }
   ],
   "source": [
    "a='Tushar Tomer'\n",
    "print(a.find('h'))"
   ]
  },
  {
   "cell_type": "code",
   "execution_count": 36,
   "id": "163c36e4",
   "metadata": {},
   "outputs": [
    {
     "name": "stdout",
     "output_type": "stream",
     "text": [
      "2\n"
     ]
    }
   ],
   "source": [
    "a='12341'\n",
    "print(a.count('1'))"
   ]
  },
  {
   "cell_type": "code",
   "execution_count": 38,
   "id": "e2a16edf",
   "metadata": {},
   "outputs": [
    {
     "name": "stdout",
     "output_type": "stream",
     "text": [
      "2\n"
     ]
    }
   ],
   "source": [
    "a=['Tushar', 'is', 'a', 'very', 'good', 'boy', '.','a']\n",
    "print(a.count('a'))"
   ]
  },
  {
   "cell_type": "code",
   "execution_count": 26,
   "id": "7f6f6c45",
   "metadata": {},
   "outputs": [
    {
     "name": "stdout",
     "output_type": "stream",
     "text": [
      "12\n"
     ]
    }
   ],
   "source": [
    "a='Tushar Tomer'\n",
    "print(len(a))"
   ]
  },
  {
   "cell_type": "code",
   "execution_count": 4,
   "id": "0f45d3fa",
   "metadata": {},
   "outputs": [
    {
     "name": "stdout",
     "output_type": "stream",
     "text": [
      "2\n"
     ]
    }
   ],
   "source": [
    "a='tushartomer1234@gmail.com'\n",
    "b=0\n",
    "for i in a:\n",
    "    if (i.isalnum()):\n",
    "        pass\n",
    "    else:\n",
    "        b=b+1\n",
    "print(b)"
   ]
  },
  {
   "cell_type": "code",
   "execution_count": 41,
   "id": "209d4d05",
   "metadata": {},
   "outputs": [
    {
     "name": "stdout",
     "output_type": "stream",
     "text": [
      "a\n",
      "q\n",
      "u\n",
      "i\n",
      "c\n",
      "k\n",
      "b\n",
      "r\n",
      "o\n",
      "w\n",
      "n\n",
      "f\n",
      "o\n",
      "x\n",
      "j\n",
      "u\n",
      "m\n",
      "p\n",
      "s\n",
      "o\n",
      "v\n",
      "e\n",
      "r\n",
      "t\n",
      "h\n",
      "e\n",
      "l\n",
      "a\n",
      "z\n",
      "y\n",
      "d\n",
      "o\n",
      "g\n",
      "s\n"
     ]
    }
   ],
   "source": [
    "a='a quick         brown fox jumps over the lazy dogs'\n",
    "for i in a:\n",
    "    if i.isspace():\n",
    "        pass\n",
    "    else:\n",
    "        print(i)"
   ]
  },
  {
   "cell_type": "code",
   "execution_count": 46,
   "id": "30a26306",
   "metadata": {},
   "outputs": [
    {
     "name": "stdout",
     "output_type": "stream",
     "text": [
      "T\n",
      "u\n",
      "s\n",
      "h\n",
      "a\n",
      "r\n",
      "i\n",
      "s\n",
      "a\n",
      "v\n",
      "e\n",
      "r\n",
      "y\n",
      "g\n",
      "o\n",
      "o\n",
      "d\n",
      "b\n",
      "o\n",
      "y\n",
      ".\n"
     ]
    }
   ],
   "source": [
    "a='Tushar is a very     good boy .'\n",
    "for i in a:\n",
    "    if i==' ':\n",
    "        continue\n",
    "    else:\n",
    "        print(i)"
   ]
  },
  {
   "cell_type": "code",
   "execution_count": 8,
   "id": "4e999cb4",
   "metadata": {},
   "outputs": [
    {
     "name": "stdout",
     "output_type": "stream",
     "text": [
      "aquickbrownfoxjumpsoverthelazydogs\n"
     ]
    }
   ],
   "source": [
    "print(f'aquickbrownfoxjumpsoverthelazydogs')"
   ]
  },
  {
   "cell_type": "code",
   "execution_count": 50,
   "id": "121f0237",
   "metadata": {},
   "outputs": [
    {
     "name": "stdout",
     "output_type": "stream",
     "text": [
      "2\n"
     ]
    }
   ],
   "source": [
    "s='deep123@gmailcom'\n",
    "for i in s:\n",
    "    if i.isdigit(): \n",
    "        if int(i)%2==0:# Because i in string so we can first convert string to int\n",
    "            print(i)\n",
    "    else:\n",
    "        pass"
   ]
  },
  {
   "cell_type": "code",
   "execution_count": 57,
   "id": "0fa7c082",
   "metadata": {},
   "outputs": [
    {
     "name": "stdout",
     "output_type": "stream",
     "text": [
      "True\n"
     ]
    }
   ],
   "source": [
    "a='Tushar Tomer'\n",
    "print(a.startswith('T'))"
   ]
  },
  {
   "cell_type": "code",
   "execution_count": 59,
   "id": "f76e927a",
   "metadata": {},
   "outputs": [
    {
     "name": "stdout",
     "output_type": "stream",
     "text": [
      "False\n"
     ]
    }
   ],
   "source": [
    "a='kushar Tomer'\n",
    "print(a.startswith('T'))"
   ]
  },
  {
   "cell_type": "code",
   "execution_count": 58,
   "id": "4c414187",
   "metadata": {},
   "outputs": [
    {
     "name": "stdout",
     "output_type": "stream",
     "text": [
      "True\n"
     ]
    }
   ],
   "source": [
    "a='Tushar Tomer'\n",
    "print(a.startswith('Tushar'))"
   ]
  },
  {
   "cell_type": "code",
   "execution_count": 56,
   "id": "eb23e4f4",
   "metadata": {},
   "outputs": [
    {
     "name": "stdout",
     "output_type": "stream",
     "text": [
      "False\n"
     ]
    }
   ],
   "source": [
    "a='Tushav Tomer'\n",
    "print(a.startswith('Tushar'))"
   ]
  },
  {
   "cell_type": "code",
   "execution_count": 19,
   "id": "9c5ad3da",
   "metadata": {},
   "outputs": [
    {
     "name": "stdout",
     "output_type": "stream",
     "text": [
      "True\n"
     ]
    }
   ],
   "source": [
    "a='Tushar Tomer'\n",
    "print(a.endswith('r'))"
   ]
  },
  {
   "cell_type": "code",
   "execution_count": 60,
   "id": "358bcf78",
   "metadata": {},
   "outputs": [
    {
     "name": "stdout",
     "output_type": "stream",
     "text": [
      "False\n"
     ]
    }
   ],
   "source": [
    "a='Tushar Tomev'\n",
    "print(a.endswith('r'))"
   ]
  },
  {
   "cell_type": "code",
   "execution_count": 61,
   "id": "e26a4fc9",
   "metadata": {},
   "outputs": [
    {
     "name": "stdout",
     "output_type": "stream",
     "text": [
      "True\n"
     ]
    }
   ],
   "source": [
    "a='Tushar Tomer'\n",
    "print(a.endswith('Tomer'))"
   ]
  },
  {
   "cell_type": "code",
   "execution_count": 63,
   "id": "b8cc2640",
   "metadata": {},
   "outputs": [
    {
     "name": "stdout",
     "output_type": "stream",
     "text": [
      "False\n"
     ]
    }
   ],
   "source": [
    "a='Tushar Tomev'\n",
    "print(a.endswith('Tomer'))"
   ]
  },
  {
   "cell_type": "code",
   "execution_count": null,
   "id": "65c92d98",
   "metadata": {},
   "outputs": [],
   "source": []
  },
  {
   "cell_type": "code",
   "execution_count": 5,
   "id": "82322782",
   "metadata": {},
   "outputs": [
    {
     "name": "stdout",
     "output_type": "stream",
     "text": [
      "('the',)\n"
     ]
    }
   ],
   "source": [
    "tuple=('a','quick','brown','fox','jumps','over','the','lazy','dogs')\n",
    "print(tuple[-3:-2])"
   ]
  },
  {
   "cell_type": "code",
   "execution_count": 8,
   "id": "5f2d28d6",
   "metadata": {},
   "outputs": [
    {
     "name": "stdout",
     "output_type": "stream",
     "text": [
      "('the', 'lazy', 'dogs')\n"
     ]
    }
   ],
   "source": [
    "tuple=('a','quick','brown','fox','jumps','over','the','lazy','dogs')\n",
    "print(tuple[-3:])"
   ]
  },
  {
   "cell_type": "code",
   "execution_count": 68,
   "id": "a991447b",
   "metadata": {},
   "outputs": [
    {
     "name": "stdout",
     "output_type": "stream",
     "text": [
      "('a', 'quick', 'brown', 'fox')\n"
     ]
    }
   ],
   "source": [
    "tuple=('a','quick','brown','fox','jumps','over','the','lazy','dogs')\n",
    "print(tuple[0:4])"
   ]
  },
  {
   "cell_type": "code",
   "execution_count": 69,
   "id": "3116853c",
   "metadata": {},
   "outputs": [
    {
     "name": "stdout",
     "output_type": "stream",
     "text": [
      "jumps\n"
     ]
    }
   ],
   "source": [
    "tuple=('a','quick','brown','fox','jumps','over','the','lazy','dogs')\n",
    "print(tuple[4])"
   ]
  },
  {
   "cell_type": "code",
   "execution_count": null,
   "id": "cdf94ef5",
   "metadata": {},
   "outputs": [],
   "source": [
    "# a='a quick brown fox jumps over the lazy dogs'\n",
    "# remove all space\n",
    "# Answer= abcdefghijklmnopqrstuvwxyz"
   ]
  },
  {
   "cell_type": "code",
   "execution_count": 1,
   "id": "cf571453",
   "metadata": {},
   "outputs": [
    {
     "name": "stdout",
     "output_type": "stream",
     "text": [
      "a\n",
      "q\n",
      "u\n",
      "i\n",
      "c\n",
      "k\n",
      "b\n",
      "r\n",
      "o\n",
      "w\n",
      "n\n",
      "f\n",
      "o\n",
      "x\n",
      "j\n",
      "u\n",
      "m\n",
      "p\n",
      "s\n",
      "o\n",
      "v\n",
      "e\n",
      "r\n",
      "t\n",
      "h\n",
      "e\n",
      "l\n",
      "a\n",
      "z\n",
      "y\n",
      "d\n",
      "o\n",
      "g\n",
      "s\n"
     ]
    }
   ],
   "source": [
    "a='a quick brown fox jumps over the lazy dogs'\n",
    "for i in a:\n",
    "    if i==' ':\n",
    "        pass\n",
    "    else:\n",
    "        print(i)"
   ]
  }
 ],
 "metadata": {
  "kernelspec": {
   "display_name": "Python 3 (ipykernel)",
   "language": "python",
   "name": "python3"
  },
  "language_info": {
   "codemirror_mode": {
    "name": "ipython",
    "version": 3
   },
   "file_extension": ".py",
   "mimetype": "text/x-python",
   "name": "python",
   "nbconvert_exporter": "python",
   "pygments_lexer": "ipython3",
   "version": "3.9.12"
  }
 },
 "nbformat": 4,
 "nbformat_minor": 5
}
